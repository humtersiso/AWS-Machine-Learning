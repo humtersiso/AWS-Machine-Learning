{
 "cells": [
  {
   "cell_type": "code",
   "execution_count": 135,
   "metadata": {},
   "outputs": [
    {
     "name": "stdout",
     "output_type": "stream",
     "text": [
      "Collecting xgboost\n",
      "  Downloading https://files.pythonhosted.org/packages/1d/e7/5258cb787dc036f419ec57491decf8bfa89ab52c401b08b4b9228e43dc4c/xgboost-0.81-py2.py3-none-win_amd64.whl (7.4MB)\n",
      "Requirement already satisfied: numpy in d:\\python\\lib\\site-packages (from xgboost) (1.14.3)\n",
      "Requirement already satisfied: scipy in d:\\python\\lib\\site-packages (from xgboost) (1.1.0)\n",
      "Installing collected packages: xgboost\n",
      "Successfully installed xgboost-0.81\n"
     ]
    },
    {
     "name": "stderr",
     "output_type": "stream",
     "text": [
      "You are using pip version 18.0, however version 18.1 is available.\n",
      "You should consider upgrading via the 'python -m pip install --upgrade pip' command.\n"
     ]
    }
   ],
   "source": [
    "!pip install xgboost"
   ]
  },
  {
   "cell_type": "code",
   "execution_count": 136,
   "metadata": {},
   "outputs": [],
   "source": [
    "%matplotlib inline\n",
    "import csv\n",
    "import pandas as pd\n",
    "import numpy as np\n",
    "import csv\n",
    "import boto3\n",
    "import datetime\n",
    "import io\n",
    "import s3fs\n",
    "import matplotlib.pyplot as plt\n",
    "import xgboost as xgb"
   ]
  },
  {
   "cell_type": "code",
   "execution_count": null,
   "metadata": {},
   "outputs": [],
   "source": [
    "def pandas_to_s3(df, key):\n",
    "    '''\n",
    "    upload data to S3\n",
    "    '''\n",
    "    csv_buffer = io.StringIO()\n",
    "    df.to_csv(csv_buffer, index=False, encoding='utf-8')\n",
    "    \n",
    "    OBJ_S3.Object(S_BUCKET,key).put(Body=csv_buffer.getvalue())\n",
    "    \n",
    "    LOGGER.info('object_name: ' + key)   \n",
    "    return None"
   ]
  },
  {
   "cell_type": "code",
   "execution_count": 13,
   "metadata": {},
   "outputs": [],
   "source": [
    "def read_data_from_s3(key):\n",
    "    '''\n",
    "    read od from S3\n",
    "    '''\n",
    "    client = boto3.client('s3')\n",
    "    obj_op = client.get_object(Bucket='machin-learning-test', Key=key)\n",
    "    df =pd.read_csv(obj_op['Body'])\n",
    "    return df"
   ]
  },
  {
   "cell_type": "markdown",
   "metadata": {},
   "source": [
    "# Part1 AWS-Machine Learning"
   ]
  },
  {
   "cell_type": "markdown",
   "metadata": {},
   "source": [
    "#### Read data form S3"
   ]
  },
  {
   "cell_type": "code",
   "execution_count": 122,
   "metadata": {
    "scrolled": true
   },
   "outputs": [
    {
     "data": {
      "text/html": [
       "<div>\n",
       "<style scoped>\n",
       "    .dataframe tbody tr th:only-of-type {\n",
       "        vertical-align: middle;\n",
       "    }\n",
       "\n",
       "    .dataframe tbody tr th {\n",
       "        vertical-align: top;\n",
       "    }\n",
       "\n",
       "    .dataframe thead th {\n",
       "        text-align: right;\n",
       "    }\n",
       "</style>\n",
       "<table border=\"1\" class=\"dataframe\">\n",
       "  <thead>\n",
       "    <tr style=\"text-align: right;\">\n",
       "      <th></th>\n",
       "      <th>vehicle_id</th>\n",
       "      <th>data_count</th>\n",
       "      <th>driving_hour</th>\n",
       "      <th>use_day</th>\n",
       "      <th>total_mileage</th>\n",
       "      <th>ua_time</th>\n",
       "      <th>ud_time</th>\n",
       "      <th>driving_min</th>\n",
       "      <th>day_driving_time</th>\n",
       "      <th>driver_type</th>\n",
       "    </tr>\n",
       "  </thead>\n",
       "  <tbody>\n",
       "    <tr>\n",
       "      <th>0</th>\n",
       "      <td>000CBF148864</td>\n",
       "      <td>32</td>\n",
       "      <td>0</td>\n",
       "      <td>1</td>\n",
       "      <td>4.983610e+03</td>\n",
       "      <td>0</td>\n",
       "      <td>0</td>\n",
       "      <td>0</td>\n",
       "      <td>0.00</td>\n",
       "      <td>less use driver</td>\n",
       "    </tr>\n",
       "    <tr>\n",
       "      <th>1</th>\n",
       "      <td>000CBF148865</td>\n",
       "      <td>21110</td>\n",
       "      <td>88</td>\n",
       "      <td>44</td>\n",
       "      <td>2.136582e+06</td>\n",
       "      <td>5</td>\n",
       "      <td>65</td>\n",
       "      <td>5280</td>\n",
       "      <td>120.00</td>\n",
       "      <td>mid time driver</td>\n",
       "    </tr>\n",
       "    <tr>\n",
       "      <th>2</th>\n",
       "      <td>000CBF14886E</td>\n",
       "      <td>203</td>\n",
       "      <td>1</td>\n",
       "      <td>5</td>\n",
       "      <td>2.553250e+04</td>\n",
       "      <td>0</td>\n",
       "      <td>8</td>\n",
       "      <td>60</td>\n",
       "      <td>12.00</td>\n",
       "      <td>less use driver</td>\n",
       "    </tr>\n",
       "    <tr>\n",
       "      <th>3</th>\n",
       "      <td>000CBF148874</td>\n",
       "      <td>49</td>\n",
       "      <td>0</td>\n",
       "      <td>2</td>\n",
       "      <td>3.679998e+03</td>\n",
       "      <td>0</td>\n",
       "      <td>0</td>\n",
       "      <td>0</td>\n",
       "      <td>0.00</td>\n",
       "      <td>less use driver</td>\n",
       "    </tr>\n",
       "    <tr>\n",
       "      <th>4</th>\n",
       "      <td>000CBF148887</td>\n",
       "      <td>10261</td>\n",
       "      <td>43</td>\n",
       "      <td>37</td>\n",
       "      <td>1.577319e+06</td>\n",
       "      <td>1800</td>\n",
       "      <td>1443</td>\n",
       "      <td>2580</td>\n",
       "      <td>69.73</td>\n",
       "      <td>mid time driver</td>\n",
       "    </tr>\n",
       "  </tbody>\n",
       "</table>\n",
       "</div>"
      ],
      "text/plain": [
       "     vehicle_id  data_count  driving_hour  use_day  total_mileage  ua_time  \\\n",
       "0  000CBF148864          32             0        1   4.983610e+03        0   \n",
       "1  000CBF148865       21110            88       44   2.136582e+06        5   \n",
       "2  000CBF14886E         203             1        5   2.553250e+04        0   \n",
       "3  000CBF148874          49             0        2   3.679998e+03        0   \n",
       "4  000CBF148887       10261            43       37   1.577319e+06     1800   \n",
       "\n",
       "   ud_time  driving_min  day_driving_time      driver_type  \n",
       "0        0            0              0.00  less use driver  \n",
       "1       65         5280            120.00  mid time driver  \n",
       "2        8           60             12.00  less use driver  \n",
       "3        0            0              0.00  less use driver  \n",
       "4     1443         2580             69.73  mid time driver  "
      ]
     },
     "execution_count": 122,
     "metadata": {},
     "output_type": "execute_result"
    }
   ],
   "source": [
    "key='ex1_test/user_train.csv'\n",
    "user_train=read_data_from_s3(key)\n",
    "user_train.head()"
   ]
  },
  {
   "cell_type": "code",
   "execution_count": 105,
   "metadata": {},
   "outputs": [
    {
     "data": {
      "text/html": [
       "<div>\n",
       "<style scoped>\n",
       "    .dataframe tbody tr th:only-of-type {\n",
       "        vertical-align: middle;\n",
       "    }\n",
       "\n",
       "    .dataframe tbody tr th {\n",
       "        vertical-align: top;\n",
       "    }\n",
       "\n",
       "    .dataframe thead th {\n",
       "        text-align: right;\n",
       "    }\n",
       "</style>\n",
       "<table border=\"1\" class=\"dataframe\">\n",
       "  <thead>\n",
       "    <tr style=\"text-align: right;\">\n",
       "      <th></th>\n",
       "      <th>vehicle_id</th>\n",
       "      <th>data_count</th>\n",
       "      <th>driving_hour</th>\n",
       "      <th>use_day</th>\n",
       "      <th>total_mileage</th>\n",
       "      <th>ua_time</th>\n",
       "      <th>ud_time</th>\n",
       "      <th>driving_min</th>\n",
       "      <th>day_driving_time</th>\n",
       "      <th>driver_type</th>\n",
       "    </tr>\n",
       "  </thead>\n",
       "  <tbody>\n",
       "    <tr>\n",
       "      <th>0</th>\n",
       "      <td>000000000000</td>\n",
       "      <td>2</td>\n",
       "      <td>0</td>\n",
       "      <td>1</td>\n",
       "      <td>5.555560e-01</td>\n",
       "      <td>0</td>\n",
       "      <td>0</td>\n",
       "      <td>0</td>\n",
       "      <td>0.00</td>\n",
       "      <td>less use driver</td>\n",
       "    </tr>\n",
       "    <tr>\n",
       "      <th>1</th>\n",
       "      <td>000CBF148831</td>\n",
       "      <td>3562</td>\n",
       "      <td>15</td>\n",
       "      <td>18</td>\n",
       "      <td>2.897005e+05</td>\n",
       "      <td>0</td>\n",
       "      <td>6</td>\n",
       "      <td>900</td>\n",
       "      <td>50.00</td>\n",
       "      <td>short time driver</td>\n",
       "    </tr>\n",
       "    <tr>\n",
       "      <th>2</th>\n",
       "      <td>000CBF148844</td>\n",
       "      <td>11079</td>\n",
       "      <td>46</td>\n",
       "      <td>36</td>\n",
       "      <td>1.325116e+06</td>\n",
       "      <td>286</td>\n",
       "      <td>341</td>\n",
       "      <td>2760</td>\n",
       "      <td>76.67</td>\n",
       "      <td>mid time driver</td>\n",
       "    </tr>\n",
       "    <tr>\n",
       "      <th>3</th>\n",
       "      <td>000CBF148894</td>\n",
       "      <td>1142</td>\n",
       "      <td>5</td>\n",
       "      <td>5</td>\n",
       "      <td>9.435222e+04</td>\n",
       "      <td>14</td>\n",
       "      <td>17</td>\n",
       "      <td>300</td>\n",
       "      <td>60.00</td>\n",
       "      <td>short time driver</td>\n",
       "    </tr>\n",
       "    <tr>\n",
       "      <th>4</th>\n",
       "      <td>000CBF1488A2</td>\n",
       "      <td>1679</td>\n",
       "      <td>7</td>\n",
       "      <td>6</td>\n",
       "      <td>2.084492e+05</td>\n",
       "      <td>88</td>\n",
       "      <td>108</td>\n",
       "      <td>420</td>\n",
       "      <td>70.00</td>\n",
       "      <td>mid time driver</td>\n",
       "    </tr>\n",
       "  </tbody>\n",
       "</table>\n",
       "</div>"
      ],
      "text/plain": [
       "     vehicle_id  data_count  driving_hour  use_day  total_mileage  ua_time  \\\n",
       "0  000000000000           2             0        1   5.555560e-01        0   \n",
       "1  000CBF148831        3562            15       18   2.897005e+05        0   \n",
       "2  000CBF148844       11079            46       36   1.325116e+06      286   \n",
       "3  000CBF148894        1142             5        5   9.435222e+04       14   \n",
       "4  000CBF1488A2        1679             7        6   2.084492e+05       88   \n",
       "\n",
       "   ud_time  driving_min  day_driving_time        driver_type  \n",
       "0        0            0              0.00    less use driver  \n",
       "1        6          900             50.00  short time driver  \n",
       "2      341         2760             76.67    mid time driver  \n",
       "3       17          300             60.00  short time driver  \n",
       "4      108          420             70.00    mid time driver  "
      ]
     },
     "execution_count": 105,
     "metadata": {},
     "output_type": "execute_result"
    }
   ],
   "source": [
    "key2='ex1_test/user_test.csv'\n",
    "user_test=read_data_from_s3(key2)\n",
    "user_test.head()"
   ]
  },
  {
   "cell_type": "markdown",
   "metadata": {},
   "source": [
    "#### Read output from S3"
   ]
  },
  {
   "cell_type": "code",
   "execution_count": 19,
   "metadata": {},
   "outputs": [],
   "source": [
    "s3 = boto3.resource('s3')\n",
    "bucket = s3.Bucket('machin-learning-test')\n",
    "Prefix=\"ex1_test/output/batch-prediction/result\"\n",
    "name=[]\n",
    "time=[] ##get s3 file name & create time\n",
    "for obj in bucket.objects.filter(Prefix=Prefix):\n",
    "    name.append(obj.key)\n",
    "    time.append(obj.last_modified)\n",
    "    bucket_info= pd.DataFrame(\n",
    "    {'name': name,\n",
    "     'time': time,}) \n",
    "np.set_printoptions(suppress=True)\n",
    "fs = s3fs.S3FileSystem()\n",
    "obj_list=[]\n",
    "for obj in bucket_info['name']:\n",
    "    obj_list.append(fs.open('s3://machin-learning-test/{}'.format(obj)))\n",
    "df_list=[]  #open object and combine then             \n",
    "for file in obj_list:\n",
    "            df = pd.read_csv(file, compression='gzip')\n",
    "            df_list.append(df)\n",
    "            final_df = pd.concat(df_list)"
   ]
  },
  {
   "cell_type": "code",
   "execution_count": 89,
   "metadata": {},
   "outputs": [],
   "source": [
    "final_df['trueLabel']=final_df['trueLabel']/1000\n",
    "final_df['score']=final_df['score']/1000"
   ]
  },
  {
   "cell_type": "code",
   "execution_count": 92,
   "metadata": {
    "scrolled": true
   },
   "outputs": [
    {
     "data": {
      "text/html": [
       "<div>\n",
       "<style scoped>\n",
       "    .dataframe tbody tr th:only-of-type {\n",
       "        vertical-align: middle;\n",
       "    }\n",
       "\n",
       "    .dataframe tbody tr th {\n",
       "        vertical-align: top;\n",
       "    }\n",
       "\n",
       "    .dataframe thead th {\n",
       "        text-align: right;\n",
       "    }\n",
       "</style>\n",
       "<table border=\"1\" class=\"dataframe\">\n",
       "  <thead>\n",
       "    <tr style=\"text-align: right;\">\n",
       "      <th></th>\n",
       "      <th>tag</th>\n",
       "      <th>trueLabel</th>\n",
       "      <th>score</th>\n",
       "    </tr>\n",
       "  </thead>\n",
       "  <tbody>\n",
       "    <tr>\n",
       "      <th>0</th>\n",
       "      <td>000000000000</td>\n",
       "      <td>0.000556</td>\n",
       "      <td>88.95799</td>\n",
       "    </tr>\n",
       "    <tr>\n",
       "      <th>1</th>\n",
       "      <td>000CBF148831</td>\n",
       "      <td>289.700546</td>\n",
       "      <td>275.57210</td>\n",
       "    </tr>\n",
       "    <tr>\n",
       "      <th>2</th>\n",
       "      <td>000CBF148844</td>\n",
       "      <td>1325.115564</td>\n",
       "      <td>960.49220</td>\n",
       "    </tr>\n",
       "    <tr>\n",
       "      <th>3</th>\n",
       "      <td>000CBF148894</td>\n",
       "      <td>94.352216</td>\n",
       "      <td>222.42080</td>\n",
       "    </tr>\n",
       "    <tr>\n",
       "      <th>4</th>\n",
       "      <td>000CBF1488A2</td>\n",
       "      <td>208.449164</td>\n",
       "      <td>509.29850</td>\n",
       "    </tr>\n",
       "  </tbody>\n",
       "</table>\n",
       "</div>"
      ],
      "text/plain": [
       "            tag    trueLabel      score\n",
       "0  000000000000     0.000556   88.95799\n",
       "1  000CBF148831   289.700546  275.57210\n",
       "2  000CBF148844  1325.115564  960.49220\n",
       "3  000CBF148894    94.352216  222.42080\n",
       "4  000CBF1488A2   208.449164  509.29850"
      ]
     },
     "execution_count": 92,
     "metadata": {},
     "output_type": "execute_result"
    }
   ],
   "source": [
    "final_df.head()"
   ]
  },
  {
   "cell_type": "markdown",
   "metadata": {},
   "source": [
    "#### Plot actual & predict value"
   ]
  },
  {
   "cell_type": "code",
   "execution_count": 113,
   "metadata": {},
   "outputs": [
    {
     "data": {
      "text/plain": [
       "<matplotlib.legend.Legend at 0x2c434dd1e80>"
      ]
     },
     "execution_count": 113,
     "metadata": {},
     "output_type": "execute_result"
    },
    {
     "data": {
      "image/png": "[encoded data removed]",
      "text/plain": [
       "<Figure size 1080x576 with 1 Axes>"
      ]
     },
     "metadata": {},
     "output_type": "display_data"
    }
   ],
   "source": [
    "plt.figure(figsize=(15,8))\n",
    "plt.scatter(x=user_test.data_count, y=final_df.trueLabel,color='r',label='actual',)\n",
    "plt.scatter(x=user_test.data_count, y=final_df.score,color='b',label='predicted')\n",
    "plt.grid(True)\n",
    "plt.legend()"
   ]
  },
  {
   "cell_type": "code",
   "execution_count": 114,
   "metadata": {},
   "outputs": [
    {
     "data": {
      "text/plain": [
       "<matplotlib.lines.Line2D at 0x2c435a844e0>"
      ]
     },
     "execution_count": 114,
     "metadata": {},
     "output_type": "execute_result"
    },
    {
     "data": {
      "image/png": "[encoded data removed]",
      "text/plain": [
       "<Figure size 1080x576 with 1 Axes>"
      ]
     },
     "metadata": {},
     "output_type": "display_data"
    }
   ],
   "source": [
    "plt.figure(figsize=(15,8))\n",
    "# Training Data Residuals\n",
    "residuals = (final_df.trueLabel - final_df.score)\n",
    "\n",
    "plt.hist(residuals)\n",
    "plt.grid(True)\n",
    "plt.xlabel('(Predicted - Actual)')\n",
    "plt.ylabel('Count')\n",
    "plt.title('Residuals Distribution')\n",
    "plt.axvline(color='g')\n",
    "# left of 0 = prediction < actual\n",
    "# right of 0 = prediction > actual"
   ]
  },
  {
   "cell_type": "markdown",
   "metadata": {},
   "source": [
    "#### Read output_custom_model from S3"
   ]
  },
  {
   "cell_type": "code",
   "execution_count": 115,
   "metadata": {},
   "outputs": [],
   "source": [
    "s3 = boto3.resource('s3')\n",
    "bucket = s3.Bucket('machin-learning-test')\n",
    "Prefix=\"ex1_test/output_custom_model/batch-prediction/result\"\n",
    "name=[]\n",
    "time=[] ##get s3 file name & create time\n",
    "for obj in bucket.objects.filter(Prefix=Prefix):\n",
    "    name.append(obj.key)\n",
    "    time.append(obj.last_modified)\n",
    "    bucket_info= pd.DataFrame(\n",
    "    {'name': name,\n",
    "     'time': time,}) \n",
    "np.set_printoptions(suppress=True)\n",
    "fs = s3fs.S3FileSystem()\n",
    "obj_list=[]\n",
    "for obj in bucket_info['name']:\n",
    "    obj_list.append(fs.open('s3://machin-learning-test/{}'.format(obj)))\n",
    "df_list=[]  #open object and combine then             \n",
    "for file in obj_list:\n",
    "            df = pd.read_csv(file, compression='gzip')\n",
    "            df_list.append(df)\n",
    "            final_df = pd.concat(df_list)"
   ]
  },
  {
   "cell_type": "code",
   "execution_count": 117,
   "metadata": {},
   "outputs": [],
   "source": [
    "final_df['trueLabel']=final_df['trueLabel']/1000\n",
    "final_df['score']=final_df['score']/1000"
   ]
  },
  {
   "cell_type": "code",
   "execution_count": 118,
   "metadata": {
    "scrolled": true
   },
   "outputs": [
    {
     "data": {
      "text/html": [
       "<div>\n",
       "<style scoped>\n",
       "    .dataframe tbody tr th:only-of-type {\n",
       "        vertical-align: middle;\n",
       "    }\n",
       "\n",
       "    .dataframe tbody tr th {\n",
       "        vertical-align: top;\n",
       "    }\n",
       "\n",
       "    .dataframe thead th {\n",
       "        text-align: right;\n",
       "    }\n",
       "</style>\n",
       "<table border=\"1\" class=\"dataframe\">\n",
       "  <thead>\n",
       "    <tr style=\"text-align: right;\">\n",
       "      <th></th>\n",
       "      <th>tag</th>\n",
       "      <th>trueLabel</th>\n",
       "      <th>score</th>\n",
       "    </tr>\n",
       "  </thead>\n",
       "  <tbody>\n",
       "    <tr>\n",
       "      <th>0</th>\n",
       "      <td>000000000000</td>\n",
       "      <td>0.000556</td>\n",
       "      <td>-0.136891</td>\n",
       "    </tr>\n",
       "    <tr>\n",
       "      <th>1</th>\n",
       "      <td>000CBF148831</td>\n",
       "      <td>289.700546</td>\n",
       "      <td>233.953000</td>\n",
       "    </tr>\n",
       "    <tr>\n",
       "      <th>2</th>\n",
       "      <td>000CBF148844</td>\n",
       "      <td>1325.115564</td>\n",
       "      <td>773.791800</td>\n",
       "    </tr>\n",
       "    <tr>\n",
       "      <th>3</th>\n",
       "      <td>000CBF148894</td>\n",
       "      <td>94.352216</td>\n",
       "      <td>77.831850</td>\n",
       "    </tr>\n",
       "    <tr>\n",
       "      <th>4</th>\n",
       "      <td>000CBF1488A2</td>\n",
       "      <td>208.449164</td>\n",
       "      <td>126.431300</td>\n",
       "    </tr>\n",
       "  </tbody>\n",
       "</table>\n",
       "</div>"
      ],
      "text/plain": [
       "            tag    trueLabel       score\n",
       "0  000000000000     0.000556   -0.136891\n",
       "1  000CBF148831   289.700546  233.953000\n",
       "2  000CBF148844  1325.115564  773.791800\n",
       "3  000CBF148894    94.352216   77.831850\n",
       "4  000CBF1488A2   208.449164  126.431300"
      ]
     },
     "execution_count": 118,
     "metadata": {},
     "output_type": "execute_result"
    }
   ],
   "source": [
    "final_df.head()"
   ]
  },
  {
   "cell_type": "markdown",
   "metadata": {},
   "source": [
    "#### Plot actual & predict value"
   ]
  },
  {
   "cell_type": "code",
   "execution_count": 119,
   "metadata": {},
   "outputs": [
    {
     "data": {
      "text/plain": [
       "<matplotlib.legend.Legend at 0x2c437161c50>"
      ]
     },
     "execution_count": 119,
     "metadata": {},
     "output_type": "execute_result"
    },
    {
     "data": {
      "image/png": "[encoded data removed]",
      "text/plain": [
       "<Figure size 1080x576 with 1 Axes>"
      ]
     },
     "metadata": {},
     "output_type": "display_data"
    }
   ],
   "source": [
    "plt.figure(figsize=(15,8))\n",
    "plt.scatter(x=user_test.data_count, y=final_df.trueLabel,color='r',label='actual',)\n",
    "plt.scatter(x=user_test.data_count, y=final_df.score,color='b',label='predicted')\n",
    "plt.grid(True)\n",
    "plt.legend()"
   ]
  },
  {
   "cell_type": "code",
   "execution_count": 120,
   "metadata": {
    "scrolled": false
   },
   "outputs": [
    {
     "data": {
      "text/plain": [
       "<matplotlib.lines.Line2D at 0x2c4359e0208>"
      ]
     },
     "execution_count": 120,
     "metadata": {},
     "output_type": "execute_result"
    },
    {
     "data": {
      "image/png": "[encoded data removed]",
      "text/plain": [
       "<Figure size 1080x576 with 1 Axes>"
      ]
     },
     "metadata": {},
     "output_type": "display_data"
    }
   ],
   "source": [
    "plt.figure(figsize=(15,8))\n",
    "# Training Data Residuals\n",
    "residuals = (final_df.trueLabel - final_df.score)\n",
    "\n",
    "plt.hist(residuals)\n",
    "plt.grid(True)\n",
    "plt.xlabel('(Predicted - Actual)')\n",
    "plt.ylabel('Count')\n",
    "plt.title('Residuals Distribution')\n",
    "plt.axvline(color='g')\n",
    "# left of 0 = prediction < actual\n",
    "# right of 0 = prediction > actual"
   ]
  },
  {
   "cell_type": "markdown",
   "metadata": {},
   "source": [
    "#### Summary"
   ]
  },
  {
   "cell_type": "markdown",
   "metadata": {},
   "source": [
    "1.AWS-ML使用上很方便 \n",
    "\n",
    "2.AWS-ML訓練模型速度偏慢；200筆資料也要4分鐘\n",
    "\n",
    "3.預測準確率並沒有很好"
   ]
  },
  {
   "cell_type": "code",
   "execution_count": null,
   "metadata": {},
   "outputs": [],
   "source": []
  },
  {
   "cell_type": "markdown",
   "metadata": {},
   "source": [
    "# Part2 使用XGboost"
   ]
  },
  {
   "cell_type": "code",
   "execution_count": 125,
   "metadata": {},
   "outputs": [],
   "source": [
    "user_train['total_mileage']=user_train['total_mileage']/1000\n",
    "user_test['total_mileage']=user_test['total_mileage']/1000"
   ]
  },
  {
   "cell_type": "code",
   "execution_count": 141,
   "metadata": {},
   "outputs": [],
   "source": [
    "X_train = user_train.drop(['total_mileage','vehicle_id','driver_type'],axis=1)\n",
    "y_train = user_train['total_mileage'].ravel() \n",
    "\n",
    "X_test = user_test.drop(['total_mileage','vehicle_id','driver_type'],axis=1)\n",
    "y_test = user_test['total_mileage'].ravel() "
   ]
  },
  {
   "cell_type": "code",
   "execution_count": 142,
   "metadata": {},
   "outputs": [
    {
     "data": {
      "text/plain": [
       "XGBRegressor(base_score=0.5, booster='gbtree', colsample_bylevel=1,\n",
       "       colsample_bytree=1, gamma=0, learning_rate=0.1, max_delta_step=0,\n",
       "       max_depth=3, min_child_weight=1, missing=None, n_estimators=100,\n",
       "       n_jobs=1, nthread=None, objective='reg:linear', random_state=0,\n",
       "       reg_alpha=0, reg_lambda=1, scale_pos_weight=1, seed=None,\n",
       "       silent=True, subsample=1)"
      ]
     },
     "execution_count": 142,
     "metadata": {},
     "output_type": "execute_result"
    }
   ],
   "source": [
    "lm=xgb.XGBRegressor() ##初始化\n",
    "lm"
   ]
  },
  {
   "cell_type": "code",
   "execution_count": 143,
   "metadata": {},
   "outputs": [
    {
     "name": "stdout",
     "output_type": "stream",
     "text": [
      "[0]\tvalidation_0-rmse:741.876\tvalidation_1-rmse:1170.18\n",
      "[1]\tvalidation_0-rmse:679.648\tvalidation_1-rmse:1060.27\n",
      "[2]\tvalidation_0-rmse:623.607\tvalidation_1-rmse:960.134\n",
      "[3]\tvalidation_0-rmse:573.121\tvalidation_1-rmse:873.227\n",
      "[4]\tvalidation_0-rmse:527.831\tvalidation_1-rmse:794.283\n",
      "[5]\tvalidation_0-rmse:486.982\tvalidation_1-rmse:724.969\n",
      "[6]\tvalidation_0-rmse:449.997\tvalidation_1-rmse:659.677\n",
      "[7]\tvalidation_0-rmse:416.675\tvalidation_1-rmse:601.548\n",
      "[8]\tvalidation_0-rmse:386.486\tvalidation_1-rmse:550.645\n",
      "[9]\tvalidation_0-rmse:359.395\tvalidation_1-rmse:505.593\n",
      "[10]\tvalidation_0-rmse:334.88\tvalidation_1-rmse:466.188\n",
      "[11]\tvalidation_0-rmse:312.955\tvalidation_1-rmse:431.773\n",
      "[12]\tvalidation_0-rmse:293.352\tvalidation_1-rmse:402.507\n",
      "[13]\tvalidation_0-rmse:275.722\tvalidation_1-rmse:377.362\n",
      "[14]\tvalidation_0-rmse:259.747\tvalidation_1-rmse:355.012\n",
      "[15]\tvalidation_0-rmse:245.37\tvalidation_1-rmse:337.867\n",
      "[16]\tvalidation_0-rmse:232.613\tvalidation_1-rmse:323.799\n",
      "[17]\tvalidation_0-rmse:221.316\tvalidation_1-rmse:311.923\n",
      "[18]\tvalidation_0-rmse:211.176\tvalidation_1-rmse:303.936\n",
      "[19]\tvalidation_0-rmse:202.159\tvalidation_1-rmse:295.031\n",
      "[20]\tvalidation_0-rmse:194.205\tvalidation_1-rmse:286.32\n",
      "[21]\tvalidation_0-rmse:187.157\tvalidation_1-rmse:281.599\n",
      "[22]\tvalidation_0-rmse:180.702\tvalidation_1-rmse:275.643\n",
      "[23]\tvalidation_0-rmse:174.951\tvalidation_1-rmse:270.466\n",
      "[24]\tvalidation_0-rmse:169.13\tvalidation_1-rmse:269.567\n",
      "[25]\tvalidation_0-rmse:164.408\tvalidation_1-rmse:268.298\n",
      "[26]\tvalidation_0-rmse:159.5\tvalidation_1-rmse:269.598\n",
      "[27]\tvalidation_0-rmse:155.629\tvalidation_1-rmse:269.774\n",
      "[28]\tvalidation_0-rmse:151.917\tvalidation_1-rmse:269.858\n",
      "[29]\tvalidation_0-rmse:148.687\tvalidation_1-rmse:269.049\n",
      "[30]\tvalidation_0-rmse:145.416\tvalidation_1-rmse:271.68\n",
      "[31]\tvalidation_0-rmse:142.553\tvalidation_1-rmse:273.093\n",
      "[32]\tvalidation_0-rmse:140.132\tvalidation_1-rmse:274.719\n",
      "[33]\tvalidation_0-rmse:137.672\tvalidation_1-rmse:273.091\n",
      "[34]\tvalidation_0-rmse:134.974\tvalidation_1-rmse:278.699\n",
      "[35]\tvalidation_0-rmse:133.13\tvalidation_1-rmse:280.023\n",
      "[36]\tvalidation_0-rmse:130.846\tvalidation_1-rmse:284.571\n",
      "[37]\tvalidation_0-rmse:128.871\tvalidation_1-rmse:284.198\n",
      "[38]\tvalidation_0-rmse:127.14\tvalidation_1-rmse:287.786\n",
      "[39]\tvalidation_0-rmse:125.332\tvalidation_1-rmse:292.536\n",
      "[40]\tvalidation_0-rmse:123.619\tvalidation_1-rmse:292.651\n",
      "[41]\tvalidation_0-rmse:122.222\tvalidation_1-rmse:292.766\n",
      "[42]\tvalidation_0-rmse:120.263\tvalidation_1-rmse:288.971\n",
      "[43]\tvalidation_0-rmse:119.162\tvalidation_1-rmse:289.473\n",
      "[44]\tvalidation_0-rmse:118.106\tvalidation_1-rmse:289.843\n",
      "[45]\tvalidation_0-rmse:117.025\tvalidation_1-rmse:294.803\n",
      "[46]\tvalidation_0-rmse:115.93\tvalidation_1-rmse:295.627\n",
      "[47]\tvalidation_0-rmse:114.469\tvalidation_1-rmse:292.27\n",
      "[48]\tvalidation_0-rmse:113.548\tvalidation_1-rmse:293.089\n",
      "[49]\tvalidation_0-rmse:112.784\tvalidation_1-rmse:293.076\n",
      "[50]\tvalidation_0-rmse:111.494\tvalidation_1-rmse:298.857\n",
      "[51]\tvalidation_0-rmse:110.441\tvalidation_1-rmse:302.758\n",
      "[52]\tvalidation_0-rmse:109.735\tvalidation_1-rmse:302.732\n",
      "[53]\tvalidation_0-rmse:108.975\tvalidation_1-rmse:303.389\n",
      "[54]\tvalidation_0-rmse:107.648\tvalidation_1-rmse:305.181\n",
      "[55]\tvalidation_0-rmse:107.048\tvalidation_1-rmse:308.012\n",
      "[56]\tvalidation_0-rmse:106.184\tvalidation_1-rmse:307.493\n",
      "[57]\tvalidation_0-rmse:104.845\tvalidation_1-rmse:308.248\n",
      "[58]\tvalidation_0-rmse:103.96\tvalidation_1-rmse:309.927\n",
      "[59]\tvalidation_0-rmse:102.724\tvalidation_1-rmse:310.641\n",
      "[60]\tvalidation_0-rmse:102.24\tvalidation_1-rmse:313.103\n",
      "[61]\tvalidation_0-rmse:101.158\tvalidation_1-rmse:313.782\n",
      "[62]\tvalidation_0-rmse:100.465\tvalidation_1-rmse:315.134\n",
      "[63]\tvalidation_0-rmse:99.756\tvalidation_1-rmse:316.133\n",
      "[64]\tvalidation_0-rmse:98.7654\tvalidation_1-rmse:316.729\n",
      "[65]\tvalidation_0-rmse:98.3362\tvalidation_1-rmse:319.438\n",
      "[66]\tvalidation_0-rmse:97.3029\tvalidation_1-rmse:320.01\n",
      "[67]\tvalidation_0-rmse:96.6412\tvalidation_1-rmse:321.569\n",
      "[68]\tvalidation_0-rmse:96.0431\tvalidation_1-rmse:324.855\n",
      "[69]\tvalidation_0-rmse:95.73\tvalidation_1-rmse:327.254\n",
      "[70]\tvalidation_0-rmse:95.1557\tvalidation_1-rmse:328.699\n",
      "[71]\tvalidation_0-rmse:94.338\tvalidation_1-rmse:329.929\n",
      "[72]\tvalidation_0-rmse:93.8469\tvalidation_1-rmse:333.097\n",
      "[73]\tvalidation_0-rmse:92.8278\tvalidation_1-rmse:334.977\n",
      "[74]\tvalidation_0-rmse:92.4075\tvalidation_1-rmse:335.883\n",
      "[75]\tvalidation_0-rmse:91.1428\tvalidation_1-rmse:336.298\n",
      "[76]\tvalidation_0-rmse:90.6815\tvalidation_1-rmse:337.074\n",
      "[77]\tvalidation_0-rmse:90.2678\tvalidation_1-rmse:338.165\n",
      "[78]\tvalidation_0-rmse:88.9532\tvalidation_1-rmse:339.958\n",
      "[79]\tvalidation_0-rmse:87.8945\tvalidation_1-rmse:340.981\n",
      "[80]\tvalidation_0-rmse:87.2296\tvalidation_1-rmse:341.977\n",
      "[81]\tvalidation_0-rmse:86.8675\tvalidation_1-rmse:342.937\n",
      "[82]\tvalidation_0-rmse:85.7503\tvalidation_1-rmse:343.092\n",
      "[83]\tvalidation_0-rmse:85.2939\tvalidation_1-rmse:343.153\n",
      "[84]\tvalidation_0-rmse:84.8979\tvalidation_1-rmse:344.527\n",
      "[85]\tvalidation_0-rmse:84.5065\tvalidation_1-rmse:347.409\n",
      "[86]\tvalidation_0-rmse:83.6107\tvalidation_1-rmse:348.328\n",
      "[87]\tvalidation_0-rmse:83.2581\tvalidation_1-rmse:348.732\n",
      "[88]\tvalidation_0-rmse:82.883\tvalidation_1-rmse:349.576\n",
      "[89]\tvalidation_0-rmse:81.8533\tvalidation_1-rmse:350.986\n",
      "[90]\tvalidation_0-rmse:81.2813\tvalidation_1-rmse:350.542\n",
      "[91]\tvalidation_0-rmse:80.9684\tvalidation_1-rmse:353.239\n",
      "[92]\tvalidation_0-rmse:80.4393\tvalidation_1-rmse:354.089\n",
      "[93]\tvalidation_0-rmse:80.183\tvalidation_1-rmse:354.709\n",
      "[94]\tvalidation_0-rmse:79.2516\tvalidation_1-rmse:355.672\n",
      "[95]\tvalidation_0-rmse:78.6307\tvalidation_1-rmse:357.413\n",
      "[96]\tvalidation_0-rmse:78.3575\tvalidation_1-rmse:359.411\n",
      "[97]\tvalidation_0-rmse:77.9745\tvalidation_1-rmse:359.853\n",
      "[98]\tvalidation_0-rmse:77.2099\tvalidation_1-rmse:360.49\n",
      "[99]\tvalidation_0-rmse:76.4096\tvalidation_1-rmse:360.525\n"
     ]
    },
    {
     "data": {
      "text/plain": [
       "XGBRegressor(base_score=0.5, booster='gbtree', colsample_bylevel=1,\n",
       "       colsample_bytree=1, gamma=0, learning_rate=0.1, max_delta_step=0,\n",
       "       max_depth=3, min_child_weight=1, missing=None, n_estimators=100,\n",
       "       n_jobs=1, nthread=None, objective='reg:linear', random_state=0,\n",
       "       reg_alpha=0, reg_lambda=1, scale_pos_weight=1, seed=None,\n",
       "       silent=True, subsample=1)"
      ]
     },
     "execution_count": 143,
     "metadata": {},
     "output_type": "execute_result"
    }
   ],
   "source": [
    "lm.fit(X_train,y_train, eval_set = [(X_train, y_train), (X_test, y_test)])"
   ]
  },
  {
   "cell_type": "code",
   "execution_count": 144,
   "metadata": {},
   "outputs": [],
   "source": [
    "result=lm.evals_result() #rmse"
   ]
  },
  {
   "cell_type": "code",
   "execution_count": 146,
   "metadata": {},
   "outputs": [],
   "source": [
    "training_rounds = range(len(result['validation_0']['rmse']))"
   ]
  },
  {
   "cell_type": "code",
   "execution_count": 148,
   "metadata": {},
   "outputs": [
    {
     "data": {
      "text/plain": [
       "<matplotlib.legend.Legend at 0x2c438380a58>"
      ]
     },
     "execution_count": 148,
     "metadata": {},
     "output_type": "execute_result"
    },
    {
     "data": {
      "image/png": "[encoded data removed]",
      "text/plain": [
       "<Figure size 1080x576 with 1 Axes>"
      ]
     },
     "metadata": {},
     "output_type": "display_data"
    }
   ],
   "source": [
    "plt.figure(figsize=(15,8))\n",
    "plt.scatter(x=training_rounds,y=result['validation_0']['rmse'],label='Training Error') #訓練資料的誤差\n",
    "plt.scatter(x=training_rounds,y=result['validation_1']['rmse'],label='Test Error') #測試資料的誤差\n",
    "plt.grid(True)\n",
    "plt.xlabel('Iterations')\n",
    "plt.ylabel('RMSE')\n",
    "plt.title('Training Vs Test Error')\n",
    "plt.legend()"
   ]
  },
  {
   "cell_type": "code",
   "execution_count": 153,
   "metadata": {},
   "outputs": [
    {
     "data": {
      "text/plain": [
       "<matplotlib.axes._subplots.AxesSubplot at 0x2c462343d30>"
      ]
     },
     "execution_count": 153,
     "metadata": {},
     "output_type": "execute_result"
    },
    {
     "data": {
      "image/png": "[encoded data removed]",
      "text/plain": [
       "<Figure size 432x288 with 1 Axes>"
      ]
     },
     "metadata": {},
     "output_type": "display_data"
    }
   ],
   "source": [
    "xgb.plot_importance(lm) #重要因子"
   ]
  },
  {
   "cell_type": "code",
   "execution_count": null,
   "metadata": {},
   "outputs": [],
   "source": []
  }
 ],
 "metadata": {
  "kernelspec": {
   "display_name": "Python 3",
   "language": "python",
   "name": "python3"
  },
  "language_info": {
   "codemirror_mode": {
    "name": "ipython",
    "version": 3
   },
   "file_extension": ".py",
   "mimetype": "text/x-python",
   "name": "python",
   "nbconvert_exporter": "python",
   "pygments_lexer": "ipython3",
   "version": "3.6.5"
  }
 },
 "nbformat": 4,
 "nbformat_minor": 2
}
